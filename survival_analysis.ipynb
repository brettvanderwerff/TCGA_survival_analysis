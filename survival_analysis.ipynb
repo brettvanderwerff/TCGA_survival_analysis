{
 "cells": [
  {
   "cell_type": "markdown",
   "metadata": {},
   "source": [
    "## TGCA Survival Analysis of Pancreatic Cancer Patients\n",
    "\n",
    "### Modified from similar workflow described on biostars.org: https://www.biostars.org/p/153013/"
   ]
  },
  {
   "cell_type": "code",
   "execution_count": 11,
   "metadata": {},
   "outputs": [
    {
     "name": "stdout",
     "output_type": "stream",
     "text": [
      "The rpy2.ipython extension is already loaded. To reload it, use:\n",
      "  %reload_ext rpy2.ipython\n"
     ]
    }
   ],
   "source": [
    "from collections import Counter\n",
    "import pandas as pd\n",
    "import rpy2.rinterface\n",
    "import numpy as np\n",
    "import glob\n",
    "import os\n",
    "%load_ext rpy2.ipython"
   ]
  },
  {
   "cell_type": "code",
   "execution_count": 12,
   "metadata": {},
   "outputs": [],
   "source": [
    "# Download raw counts from Xena, place tsv in data folder\n",
    "# https://gdc.xenahubs.net/download/TCGA-PAAD/Xena_Matrices/TCGA-PAAD.htseq_counts.tsv.gz"
   ]
  },
  {
   "cell_type": "code",
   "execution_count": 13,
   "metadata": {},
   "outputs": [],
   "source": [
    "HTSeq_raw_df = pd.read_csv(\"data/rna/raw_counts/TCGA-PAAD.htseq_counts.tsv\", sep=\"\\t\")"
   ]
  },
  {
   "cell_type": "code",
   "execution_count": 14,
   "metadata": {},
   "outputs": [],
   "source": [
    "# These counts are actually partially processed from raw HTSeq counts (they have been incremented by one then log transformed)\n",
    "# Reversing this process will give the actual raw counts\n",
    "\n",
    "HTSeq_raw_counts_df = pd.DataFrame()\n",
    "HTSeq_raw_counts_df['Ensembl_ID'] = HTSeq_raw_df['Ensembl_ID']\n",
    "for column in HTSeq_raw_df.columns.values[1:]:\n",
    "    series = HTSeq_raw_df[column]\n",
    "    series_antilog = (2**series) - 1\n",
    "    HTSeq_raw_counts_df[column] = series_antilog\n",
    "       "
   ]
  },
  {
   "cell_type": "code",
   "execution_count": 15,
   "metadata": {},
   "outputs": [],
   "source": [
    "# Builds a dictionary of what samples correspond to normal tissue and what samples correspond to tumor tissue\n",
    "# More can be read about how sample barcoding works in the TCGA here: https://docs.gdc.cancer.gov/Encyclopedia/pages/TCGA_Barcode/\n",
    "\n",
    "origin_dict = {}\n",
    "for column in list(HTSeq_raw_counts_df)[1:]:\n",
    "    if column[13] == '0':\n",
    "        origin_dict[column] = 'tumor'\n",
    "    elif column[13] == '1':\n",
    "        origin_dict[column] = 'normal'"
   ]
  },
  {
   "cell_type": "code",
   "execution_count": 16,
   "metadata": {},
   "outputs": [
    {
     "data": {
      "text/plain": [
       "Counter({'tumor': 178, 'normal': 4})"
      ]
     },
     "execution_count": 16,
     "metadata": {},
     "output_type": "execute_result"
    }
   ],
   "source": [
    "# There should be 178 samples corresponding to tumors and 4 samples corresponding to normal tissue\n",
    "\n",
    "Counter(origin_dict.values())"
   ]
  },
  {
   "cell_type": "code",
   "execution_count": 17,
   "metadata": {},
   "outputs": [],
   "source": [
    "# For this analysis, only tumor samples are used\n",
    "# HTSeq_raw_counts_df is subset to just get tumor samples\n",
    "# Normal samples are not used in this analysis\n",
    "\n",
    "slice_list = ['Ensembl_ID']\n",
    "for column, value in origin_dict.items():\n",
    "    if value == 'tumor':\n",
    "        slice_list.append(column)\n",
    "        \n",
    "HTSeq_raw_counts_tumors_df = HTSeq_raw_counts_df[slice_list]"
   ]
  },
  {
   "cell_type": "code",
   "execution_count": 18,
   "metadata": {},
   "outputs": [],
   "source": [
    "# Lowly expressed genes (genes that have counts of 0 in 50% of samples) are removed\n",
    "\n",
    "zeroes = (HTSeq_raw_counts_tumors_df == 0).astype(int)\n",
    "zeroes_count = zeroes.sum(axis=1).to_frame()\n",
    "length = zeroes.shape[1]\n",
    "zeroes_count = zeroes_count.drop(zeroes_count[zeroes_count[0] < length/2].index)\n",
    "drop_index_list = zeroes_count.index.to_list()\n",
    "HTSeq_raw_counts_tumors_no_zeroes_df = HTSeq_raw_counts_tumors_df.drop(labels=drop_index_list)"
   ]
  },
  {
   "cell_type": "code",
   "execution_count": 19,
   "metadata": {},
   "outputs": [],
   "source": [
    "# Counts are floats currently, but need to be convereted to integers of DESeq2 will complain\n",
    "\n",
    "for column in HTSeq_raw_counts_tumors_no_zeroes_df.columns.values[1:]:\n",
    "    HTSeq_raw_counts_tumors_no_zeroes_df[column] = HTSeq_raw_counts_tumors_no_zeroes_df[column].astype(int)\n",
    "    "
   ]
  },
  {
   "cell_type": "code",
   "execution_count": 20,
   "metadata": {},
   "outputs": [],
   "source": [
    "# Any files that are currently in the tumor_samples folder should be deleted\n",
    "\n",
    "tumor_sample_dir = 'data/rna/tumor_samples/'\n",
    "files = glob.glob(tumor_sample_dir + '*')\n",
    "for f in files:\n",
    "    os.remove(f)\n",
    "    \n",
    "# A tsv corresponing to the raw counts for each tumor is saved in the tumor_samples folder\n",
    "# This is needed to pass off the data to R\n",
    "\n",
    "for column in HTSeq_raw_counts_tumors_no_zeroes_df.columns.values[1:]:\n",
    "    file_name = 'data/rna/tumor_samples/' + column + '.tsv'\n",
    "    HTSeq_raw_counts_tumors_no_zeroes_df[['Ensembl_ID', column]].to_csv(file_name, sep=\" \", header=False, index=False)"
   ]
  },
  {
   "cell_type": "code",
   "execution_count": 21,
   "metadata": {
    "scrolled": true
   },
   "outputs": [
    {
     "name": "stderr",
     "output_type": "stream",
     "text": [
      "R[write to console]: Loading required package: S4Vectors\n",
      "\n",
      "R[write to console]: Loading required package: stats4\n",
      "\n",
      "R[write to console]: Loading required package: BiocGenerics\n",
      "\n",
      "R[write to console]: Loading required package: parallel\n",
      "\n",
      "R[write to console]: \n",
      "Attaching package: ‘BiocGenerics’\n",
      "\n",
      "\n",
      "R[write to console]: The following objects are masked from ‘package:parallel’:\n",
      "\n",
      "    clusterApply, clusterApplyLB, clusterCall, clusterEvalQ,\n",
      "    clusterExport, clusterMap, parApply, parCapply, parLapply,\n",
      "    parLapplyLB, parRapply, parSapply, parSapplyLB\n",
      "\n",
      "\n",
      "R[write to console]: The following objects are masked from ‘package:stats’:\n",
      "\n",
      "    IQR, mad, sd, var, xtabs\n",
      "\n",
      "\n",
      "R[write to console]: The following objects are masked from ‘package:base’:\n",
      "\n",
      "    anyDuplicated, append, as.data.frame, basename, cbind, colnames,\n",
      "    dirname, do.call, duplicated, eval, evalq, Filter, Find, get, grep,\n",
      "    grepl, intersect, is.unsorted, lapply, Map, mapply, match, mget,\n",
      "    order, paste, pmax, pmax.int, pmin, pmin.int, Position, rank,\n",
      "    rbind, Reduce, rownames, sapply, setdiff, sort, table, tapply,\n",
      "    union, unique, unsplit, which, which.max, which.min\n",
      "\n",
      "\n",
      "R[write to console]: \n",
      "Attaching package: ‘S4Vectors’\n",
      "\n",
      "\n",
      "R[write to console]: The following object is masked from ‘package:base’:\n",
      "\n",
      "    expand.grid\n",
      "\n",
      "\n",
      "R[write to console]: Loading required package: IRanges\n",
      "\n",
      "R[write to console]: Loading required package: GenomicRanges\n",
      "\n",
      "R[write to console]: Loading required package: GenomeInfoDb\n",
      "\n",
      "R[write to console]: Loading required package: SummarizedExperiment\n",
      "\n",
      "R[write to console]: Loading required package: Biobase\n",
      "\n",
      "R[write to console]: Welcome to Bioconductor\n",
      "\n",
      "    Vignettes contain introductory material; view with\n",
      "    'browseVignettes()'. To cite Bioconductor, see\n",
      "    'citation(\"Biobase\")', and for packages 'citation(\"pkgname\")'.\n",
      "\n",
      "\n",
      "R[write to console]: Loading required package: DelayedArray\n",
      "\n",
      "R[write to console]: Loading required package: matrixStats\n",
      "\n",
      "R[write to console]: \n",
      "Attaching package: ‘matrixStats’\n",
      "\n",
      "\n",
      "R[write to console]: The following objects are masked from ‘package:Biobase’:\n",
      "\n",
      "    anyMissing, rowMedians\n",
      "\n",
      "\n",
      "R[write to console]: Loading required package: BiocParallel\n",
      "\n",
      "R[write to console]: \n",
      "Attaching package: ‘DelayedArray’\n",
      "\n",
      "\n",
      "R[write to console]: The following objects are masked from ‘package:matrixStats’:\n",
      "\n",
      "    colMaxs, colMins, colRanges, rowMaxs, rowMins, rowRanges\n",
      "\n",
      "\n",
      "R[write to console]: The following objects are masked from ‘package:base’:\n",
      "\n",
      "    aperm, apply, rowsum\n",
      "\n",
      "\n",
      "R[write to console]: Registered S3 methods overwritten by 'ggplot2':\n",
      "  method         from \n",
      "  [.quosures     rlang\n",
      "  c.quosures     rlang\n",
      "  print.quosures rlang\n",
      "\n"
     ]
    }
   ],
   "source": [
    "%%R\n",
    "\n",
    "# DESeq2 is loaded\n",
    "\n",
    "library(\"DESeq2\")"
   ]
  },
  {
   "cell_type": "code",
   "execution_count": 22,
   "metadata": {},
   "outputs": [],
   "source": [
    "%%R\n",
    "\n",
    "# Builds a sampleTable based on the data files in the tumor_samples directory\n",
    "\n",
    "rna_data_directory <- 'data/rna/tumor_samples'\n",
    "\n",
    "sampleFiles <- list.files(rna_data_directory)\n",
    "sampleNames <- gsub(\".tsv\", \"\", sampleFiles)\n",
    "sampleCondition <- c(rep(\"tumor\", length(sampleNames)))\n",
    "sampleTable <- data.frame(sampleName = sampleNames,\n",
    "                          fileName = sampleFiles,\n",
    "                          condition = sampleCondition)"
   ]
  },
  {
   "cell_type": "code",
   "execution_count": 23,
   "metadata": {},
   "outputs": [],
   "source": [
    "%%R\n",
    "\n",
    "# A DESeq dataset is constructed using the sampleTable and the path to the tumor_samples directory\n",
    "# The design is set to 1 to indicate that there are no factors dividing these groups (this could be changed if desired)\n",
    "\n",
    "dds <- DESeqDataSetFromHTSeqCount(sampleTable = sampleTable,\n",
    "                                       directory = rna_data_directory,\n",
    "                                       design= ~ 1)"
   ]
  },
  {
   "cell_type": "code",
   "execution_count": 24,
   "metadata": {},
   "outputs": [],
   "source": [
    "%%R\n",
    "\n",
    "# The DESeq dataset is transformed using the log-like variance stabilizing transformation (http://bioconductor.org/packages/release/bioc/vignettes/DESeq2/inst/doc/DESeq2.html)\n",
    "\n",
    "transformed_dds <- vst(dds, blind=TRUE)\n",
    "    \n"
   ]
  },
  {
   "cell_type": "code",
   "execution_count": 25,
   "metadata": {},
   "outputs": [],
   "source": [
    "%%R\n",
    "\n",
    "# The transformed_dds_matrix object is a summarized experiement object\n",
    "# This is just a matrix of the transformed counts\n",
    "# This matrix is then saved to the temp folder for passing off to Python\n",
    "\n",
    "transformed_dds_matrix <- assay(transformed_dds)\n",
    "write.csv(transformed_dds_matrix, \"data/temp/transformed_dds_matrix.csv\")\n"
   ]
  },
  {
   "cell_type": "code",
   "execution_count": 26,
   "metadata": {},
   "outputs": [],
   "source": [
    "# The transformed_dds is loaded into the Python environment with Pandas\n",
    "\n",
    "transformed_dds_matrix = pd.read_csv(\"data/temp/transformed_dds_matrix.csv\")\n",
    "transformed_dds_matrix = transformed_dds_matrix.rename(index=str, columns={\"Unnamed: 0\": \"Ensembl_ID\"})"
   ]
  },
  {
   "cell_type": "code",
   "execution_count": 27,
   "metadata": {},
   "outputs": [],
   "source": [
    "# The \"high expression\" and \"low expression\" cutoffs are calculated for each gene\n",
    "# Here these cutoffs are based on the median expression level for each gene \n",
    "# But can be based on other thresholds (i.e. upper tertile/lower tertile)\n",
    "\n",
    "sample_columns = transformed_dds_matrix.columns.values[1:]\n",
    "high_expression_cutoff = transformed_dds_matrix[sample_columns].apply(lambda x: np.percentile(x, 50), axis=1)\n",
    "low_expression_cutoff = transformed_dds_matrix[sample_columns].apply(lambda x: np.percentile(x, 50), axis=1)\n",
    "\n",
    "transformed_dds_matrix['high_expression_cutoff'] = high_expression_cutoff\n",
    "transformed_dds_matrix['low_expression_cutoff'] = low_expression_cutoff"
   ]
  },
  {
   "cell_type": "code",
   "execution_count": 31,
   "metadata": {},
   "outputs": [],
   "source": [
    "# Download clinical data from http://gdac.broadinstitute.org/runs/stddata__2016_01_28/data/PAAD/20160128/gdac.broadinstitute.org_PAAD.Merge_Clinical.Level_1.2016012800.0.0.tar.gz\n",
    "# File should be extracted and \"GBM.merged_only_clinical_clin_format.txt\" should be placed in the \"data/clinical\" folder\n",
    "# The clinical file is read in with pandas \n",
    "# The dataframe is transposed to force the clinical feature titles as column names\n",
    "\n",
    "clinical_dir = 'data/clinical/PAAD.merged_only_clinical_clin_format.txt'\n",
    "clinical_df = pd.read_csv(clinical_dir, sep='\\t', index_col='V1').T\n"
   ]
  },
  {
   "cell_type": "code",
   "execution_count": 32,
   "metadata": {},
   "outputs": [],
   "source": [
    "# Patient barcodes need to be converted to uppercase for later merging\n",
    "\n",
    "clinical_df['patient.bcr_patient_barcode'] = clinical_df['patient.bcr_patient_barcode'].str.upper()"
   ]
  },
  {
   "cell_type": "code",
   "execution_count": 33,
   "metadata": {},
   "outputs": [],
   "source": [
    "# The most recent recording of 'days_to_death' is assigned to the 'death_days' column\n",
    "# This should be an unambiguous number, but the max is taken anyway just to pick one value if there are multiple entries\n",
    "\n",
    "death_df = pd.DataFrame()\n",
    "death_df['patient.bcr_patient_barcode']  = clinical_df['patient.bcr_patient_barcode']\n",
    "for column in clinical_df:\n",
    "    if 'days_to_death' in column:\n",
    "        death_df[column] = clinical_df[column]\n",
    "        death_df[column] = death_df[column].astype(float)\n",
    "        death_df['death_days'] = death_df.max(axis=1)\n",
    "\n",
    "death_df = death_df[['patient.bcr_patient_barcode', 'death_days']]"
   ]
  },
  {
   "cell_type": "code",
   "execution_count": 34,
   "metadata": {},
   "outputs": [],
   "source": [
    "# The most recent number for \"days to last followup\" is assigned to the 'followup_days' column\n",
    "# Days_to_last_followup is defined as the time interval from the date of last followup to the date of initial pathologic diagnosis\n",
    "# This means the most recent followup would be the largest number, which is why the max number is taken\n",
    "\n",
    "followup_df = pd.DataFrame()\n",
    "followup_df['patient.bcr_patient_barcode']  = clinical_df['patient.bcr_patient_barcode']\n",
    "for column in clinical_df:\n",
    "    if 'days_to_last_followup' in column:\n",
    "        followup_df[column] = clinical_df[column]\n",
    "        followup_df[column] = followup_df[column].astype(float)\n",
    "        followup_df['followup_days'] = followup_df.max(axis=1)\n",
    "\n",
    "followup_df = followup_df[['patient.bcr_patient_barcode', 'followup_days']]"
   ]
  },
  {
   "cell_type": "code",
   "execution_count": 36,
   "metadata": {},
   "outputs": [],
   "source": [
    "# The recently created death_df and followup_df dataframes are merged\n",
    "\n",
    "df_list = [death_df, followup_df]\n",
    "all_clinical_df = pd.DataFrame()\n",
    "all_clinical_df['patient.bcr_patient_barcode'] = clinical_df['patient.bcr_patient_barcode']\n",
    "for df in df_list:\n",
    "    all_clinical_df = all_clinical_df.merge(df, on='patient.bcr_patient_barcode')"
   ]
  },
  {
   "cell_type": "code",
   "execution_count": 38,
   "metadata": {},
   "outputs": [],
   "source": [
    "# If the patient did die, the 'death_days' value is recorded in a column labeled 'new_death'\n",
    "# If the patient did not die, the number of days since last followup ('followup_days') will be recorded in this column\n",
    "\n",
    "all_clinical_df['new_death']= np.where(all_clinical_df['death_days'].isnull(),all_clinical_df['followup_days'] , all_clinical_df['death_days'])"
   ]
  },
  {
   "cell_type": "code",
   "execution_count": 39,
   "metadata": {},
   "outputs": [
    {
     "name": "stderr",
     "output_type": "stream",
     "text": [
      "/home/brett/.local/lib/python3.6/site-packages/ipykernel_launcher.py:5: SettingWithCopyWarning: \n",
      "A value is trying to be set on a copy of a slice from a DataFrame.\n",
      "Try using .loc[row_indexer,col_indexer] = value instead\n",
      "\n",
      "See the caveats in the documentation: http://pandas.pydata.org/pandas-docs/stable/indexing.html#indexing-view-versus-copy\n",
      "  \"\"\"\n"
     ]
    }
   ],
   "source": [
    "# An alive_dead_df dataframe is created to record patient that lived/died\n",
    "# This dataframe has a column named 'death_event' which is coded '1' for patients that died and '0' for patients that remained living\n",
    "\n",
    "alive_dead_df = clinical_df[['patient.bcr_patient_barcode', 'patient.vital_status']]\n",
    "alive_dead_df['death_event'] = np.where(alive_dead_df['patient.vital_status'] == 'dead', 1, 0)\n",
    "alive_dead_df = alive_dead_df[['patient.bcr_patient_barcode', 'death_event']]"
   ]
  },
  {
   "cell_type": "code",
   "execution_count": 40,
   "metadata": {},
   "outputs": [],
   "source": [
    "# The alive_dead_df is merged with all_clinical_df on the 'patient.bcr_patient_barcode' column\n",
    "\n",
    "all_clinical_df = all_clinical_df.merge(alive_dead_df, on='patient.bcr_patient_barcode')"
   ]
  },
  {
   "cell_type": "code",
   "execution_count": 42,
   "metadata": {},
   "outputs": [],
   "source": [
    "# The transformed_dds_matrix is subset to only include a single row corresponding to some gene of interest\n",
    "# In this case the gene is the c-Met receptor \n",
    "\n",
    "gene_id = 'ENSG00000164078.11'\n",
    "gene_subset = transformed_dds_matrix[transformed_dds_matrix['Ensembl_ID'] == gene_id]\n"
   ]
  },
  {
   "cell_type": "code",
   "execution_count": 44,
   "metadata": {},
   "outputs": [],
   "source": [
    "# The gene_subset dataframe is transposed to make the samples rows and a new header is created\n",
    "\n",
    "gene_subset_transposed = gene_subset.T.reset_index()\n",
    "new_header = ['patient.bcr_patient_barcode', 'normalized_counts']\n",
    "gene_subset_transposed = gene_subset_transposed[1:]\n",
    "gene_subset_transposed.columns = new_header\n",
    "\n",
    "# Patient barcodes are truncated to ensure correct merging with clinical data\n",
    "\n",
    "gene_subset_transposed['patient.bcr_patient_barcode'].iloc[:-2] = gene_subset_transposed['patient.bcr_patient_barcode'].str[:-4]\n"
   ]
  },
  {
   "cell_type": "code",
   "execution_count": 45,
   "metadata": {},
   "outputs": [],
   "source": [
    "# The high and low expression cutoffs are obtained from the gene_subset_transposed dataframe\n",
    "\n",
    "high_expression_cutoff = gene_subset_transposed.iloc[-2, 1]\n",
    "low_expression_cutoff = gene_subset_transposed.iloc[-1, 1]\n",
    "\n",
    "# These entries are then dropped from the dataframe, because they are no longer needed\n",
    "\n",
    "gene_subset_transposed = gene_subset_transposed.iloc[:-2]\n"
   ]
  },
  {
   "cell_type": "code",
   "execution_count": 46,
   "metadata": {},
   "outputs": [],
   "source": [
    "# gene_subset_transposed is merged with all_clinical df on the 'patient.bcr_patient_barcode' column\n",
    "\n",
    "all_clinical_df = all_clinical_df.merge(gene_subset_transposed, on='patient.bcr_patient_barcode')"
   ]
  },
  {
   "cell_type": "code",
   "execution_count": 47,
   "metadata": {},
   "outputs": [],
   "source": [
    "# A new column 'event_rna' is created in the all_clinical_df dataframe\n",
    "all_clinical_df['event_rna'] = pd.Series()\n",
    "\n",
    "# Every sample is coded as expressing the gene of interest above or below the median expression level\n",
    "\n",
    "all_clinical_df['event_rna'] = np.where(all_clinical_df['normalized_counts'] > high_expression_cutoff,'high_{}'.format(gene_id),all_clinical_df['event_rna'])\n",
    "all_clinical_df['event_rna'] = np.where(all_clinical_df['normalized_counts'] < low_expression_cutoff, 'low_{}'.format(gene_id), all_clinical_df['event_rna'])\n",
    "all_clinical_df['event_rna'] = all_clinical_df['event_rna'].replace('nan', 'medium_{}'.format(gene_id))\n",
    "all_clinical_df = all_clinical_df[all_clinical_df['event_rna'] != 'medium_{}'.format(gene_id)]\n"
   ]
  },
  {
   "cell_type": "code",
   "execution_count": 50,
   "metadata": {},
   "outputs": [],
   "source": [
    "# Any files that are currently in the data/temp folder should be deleted\n",
    "\n",
    "tumor_sample_dir = 'data/temp/'\n",
    "files = glob.glob(tumor_sample_dir + '*')\n",
    "for f in files:\n",
    "    os.remove(f)\n",
    "    \n",
    "# The all_clincal_df is saved to the temp folder\n",
    "# The name of the gene that is being analyzed in incorperated into the file name as well\n",
    "\n",
    "all_clinical_df.to_csv(\"data/temp/{}_all_clinical_df.csv\".format(gene_id), index=False)"
   ]
  },
  {
   "cell_type": "code",
   "execution_count": 49,
   "metadata": {},
   "outputs": [
    {
     "name": "stderr",
     "output_type": "stream",
     "text": [
      "R[write to console]: Loading required package: ggplot2\n",
      "\n",
      "R[write to console]: Loading required package: ggpubr\n",
      "\n",
      "R[write to console]: Loading required package: magrittr\n",
      "\n"
     ]
    }
   ],
   "source": [
    "%%R\n",
    "\n",
    "# Load the survival library for analysis and survminer library for plotting\n",
    "\n",
    "library(survival)\n",
    "library(survminer)"
   ]
  },
  {
   "cell_type": "code",
   "execution_count": 62,
   "metadata": {},
   "outputs": [],
   "source": [
    "%%R\n",
    "\n",
    "# The name of the all_clinical_df csv saved in the temp folder is gotten\n",
    "# This file name is subset ot get the gene name\n",
    "\n",
    "file <- list.files('data/temp/', pattern=\"\\\\.csv$\")\n",
    "gene <- strsplit(file, '_')[[1]][1]\n"
   ]
  },
  {
   "cell_type": "code",
   "execution_count": 65,
   "metadata": {},
   "outputs": [
    {
     "data": {
      "text/plain": [
       "[1] \"data/temp/ENSG00000164078.11_all_clinical_df.csv\"\n"
      ]
     },
     "metadata": {},
     "output_type": "display_data"
    }
   ],
   "source": [
    "%%R\n",
    "\n",
    "# The full path to the all_clinical_df csv is constructed\n",
    "\n",
    "all_clinical_df_path <- paste('data/temp/', gene, \"_all_clinical_df.csv\", sep=\"\")\n",
    "all_clinical_df_path"
   ]
  },
  {
   "cell_type": "code",
   "execution_count": 71,
   "metadata": {},
   "outputs": [],
   "source": [
    "%%R\n",
    "\n",
    "# The all_clinical_df csv is read in\n",
    "\n",
    "all_clinical_df <- read.csv(file=all_clinical_df_path, header=TRUE, sep=\",\")"
   ]
  },
  {
   "cell_type": "code",
   "execution_count": 72,
   "metadata": {},
   "outputs": [
    {
     "data": {
      "text/plain": [
       "Call: survfit(formula = survival_object ~ event_rna, data = all_clinical_df)\n",
       "\n",
       "                                   n events median 0.95LCL 0.95UCL\n",
       "event_rna=high_ENSG00000164078.11 89     34   1059     634      NA\n",
       "event_rna=low_ENSG00000164078.11  89     24   1502     738      NA\n"
      ]
     },
     "metadata": {},
     "output_type": "display_data"
    }
   ],
   "source": [
    "%%R\n",
    "\n",
    "# A survival object is created by indicating the time to death/last followup and death event data \n",
    "survival_object <- Surv(time=all_clinical_df$new_death, event=all_clinical_df$death_event)\n",
    "\n",
    "# The survival_object is used to fit the Kaplan-Meier curve with the survfit function\n",
    "\n",
    "fit <- survfit(formula = survival_object ~ event_rna, data = all_clinical_df)"
   ]
  },
  {
   "cell_type": "code",
   "execution_count": 75,
   "metadata": {},
   "outputs": [
    {
     "data": {
      "image/png": "[encoded data removed]"
     },
     "metadata": {},
     "output_type": "display_data"
    }
   ],
   "source": [
    "%%R\n",
    "\n",
    "# A legend is constructed\n",
    "\n",
    "legend_labels <- c(paste(gene, \"(+)\", sep=\" \"),\n",
    "                   paste(gene, \"(-)\", sep=\" \"))\n",
    "\n",
    "ggsurvplot(fit, data = all_clinical_df, pval = FALSE, legend = c(.75,.9), fun='pct', break.time.by=500, \n",
    "           risk.table = TRUE,\n",
    "          xlab = \"Time (days)\",\n",
    "          ggtheme = theme_bw(),\n",
    "          legend.labs = legend_labels)"
   ]
  },
  {
   "cell_type": "code",
   "execution_count": 76,
   "metadata": {},
   "outputs": [
    {
     "data": {
      "text/plain": [
       "Call:\n",
       "coxph(formula = Surv(new_death, death_event) ~ event_rna, data = all_clinical_df)\n",
       "\n",
       "  n= 178, number of events= 58 \n",
       "\n",
       "                                   coef exp(coef) se(coef)      z Pr(>|z|)  \n",
       "event_rnalow_ENSG00000164078.11 -0.4484    0.6386   0.2689 -1.668   0.0954 .\n",
       "---\n",
       "Signif. codes:  0 ‘***’ 0.001 ‘**’ 0.01 ‘*’ 0.05 ‘.’ 0.1 ‘ ’ 1\n",
       "\n",
       "                                exp(coef) exp(-coef) lower .95 upper .95\n",
       "event_rnalow_ENSG00000164078.11    0.6386      1.566     0.377     1.082\n",
       "\n",
       "Concordance= 0.556  (se = 0.036 )\n",
       "Likelihood ratio test= 2.83  on 1 df,   p=0.09\n",
       "Wald test            = 2.78  on 1 df,   p=0.1\n",
       "Score (logrank) test = 2.83  on 1 df,   p=0.09\n",
       "\n"
      ]
     },
     "metadata": {},
     "output_type": "display_data"
    }
   ],
   "source": [
    "%%R\n",
    "\n",
    "# A cox regression can be performed to determine how significantly the expression patterns affect survival\n",
    "\n",
    "res.cox <- coxph(Surv(new_death, death_event) ~ event_rna, data=all_clinical_df)\n",
    "res.cox.extended <- summary(res.cox)\n",
    "res.cox.extended"
   ]
  },
  {
   "cell_type": "code",
   "execution_count": null,
   "metadata": {},
   "outputs": [],
   "source": []
  }
 ],
 "metadata": {
  "kernelspec": {
   "display_name": "Python 3",
   "language": "python",
   "name": "python3"
  },
  "language_info": {
   "codemirror_mode": {
    "name": "ipython",
    "version": 3
   },
   "file_extension": ".py",
   "mimetype": "text/x-python",
   "name": "python",
   "nbconvert_exporter": "python",
   "pygments_lexer": "ipython3",
   "version": "3.6.7"
  }
 },
 "nbformat": 4,
 "nbformat_minor": 2
}
